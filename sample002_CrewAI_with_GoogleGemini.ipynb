{
  "nbformat": 4,
  "nbformat_minor": 0,
  "metadata": {
    "colab": {
      "provenance": [],
      "authorship_tag": "ABX9TyNFhlegyQMSSPGYi6Zhb01R",
      "include_colab_link": true
    },
    "kernelspec": {
      "name": "python3",
      "display_name": "Python 3"
    },
    "language_info": {
      "name": "python"
    }
  },
  "cells": [
    {
      "cell_type": "markdown",
      "metadata": {
        "id": "view-in-github",
        "colab_type": "text"
      },
      "source": [
        "<a href=\"https://colab.research.google.com/github/MoreiraErick/AI/blob/crewAI/sample002_CrewAI_with_GoogleGemini.ipynb\" target=\"_parent\"><img src=\"https://colab.research.google.com/assets/colab-badge.svg\" alt=\"Open In Colab\"/></a>"
      ]
    },
    {
      "cell_type": "markdown",
      "source": [
        "## Google Gemini"
      ],
      "metadata": {
        "id": "np0AzJOwxTBD"
      }
    },
    {
      "cell_type": "markdown",
      "source": [
        "Este código utiliza a API ChatGoogleGenerativeAI da Google e ferramentas de busca para criar um agente especializado em criptomoedas, especificamente para buscar o preço atual do Bitcoin (BTC) em dólares americanos (USD). O agente utiliza a biblioteca requests para fazer uma requisição à API CoinGecko, que retorna o preço atual do Bitcoin. O fluxo de execução do código inclui a definição do agente, a criação de uma tarefa para buscar o preço do Bitcoin, e a inicialização de uma equipe (Crew) que executa esta tarefa. A saída final é uma string formatada com o preço atual do Bitcoin, ou uma mensagem de erro se a requisição falhar."
      ],
      "metadata": {
        "id": "CBK9_v8B8c7t"
      }
    },
    {
      "cell_type": "markdown",
      "source": [
        "This code uses Google's ChatGoogleGenerativeAI API and search tools to create an agent specialized in cryptocurrencies, specifically to fetch the current price of Bitcoin (BTC) in US dollars (USD). The agent uses the requests library to make a request to the CoinGecko API, which returns the current price of Bitcoin. The execution flow of the code includes defining the agent, creating a task to fetch the Bitcoin price, and initializing a crew that executes this task. The final output is a formatted string with the current Bitcoin price, or an error message if the request fails."
      ],
      "metadata": {
        "id": "B8p-Ikq2LuqT"
      }
    },
    {
      "cell_type": "code",
      "source": [
        "# Instalar pacotes necessários\n",
        "# Install required packages\n",
        "!pip install -U duckduckgo-search langchain_google_genai crewai"
      ],
      "metadata": {
        "id": "i-YIbxqCzOOO"
      },
      "execution_count": null,
      "outputs": []
    },
    {
      "cell_type": "code",
      "source": [
        "# Importar pacotes necessários\n",
        "# Import necessary packages\n",
        "from langchain_google_genai import ChatGoogleGenerativeAI\n",
        "from crewai import Agent, Task, Crew, Process\n",
        "from langchain.tools import tool\n",
        "import requests\n",
        "\n",
        "# Usado para armazenar sua chave de API com segurança\n",
        "# Used to securely store your API key\n",
        "from google.colab import userdata\n",
        "\n",
        "# Solicitar ao usuário que insira sua chave de API do Google\n",
        "# Prompt user to enter their Google API key\n",
        "GOOGLE_API_KEY = userdata.get('GOOGLE_API_KEY')  # Ou substitua pela sua chave de API do Google / Or replace with your Google API key\n",
        "\n",
        "# Configurar gemini pro como LLM (Modelo de Linguagem)\n",
        "# Set gemini pro as LLM (Language Model)\n",
        "llm = ChatGoogleGenerativeAI(\n",
        "    model=\"gemini-pro\",\n",
        "    verbose=True,\n",
        "    temperature=0.5,\n",
        "    google_api_key=GOOGLE_API_KEY\n",
        ")\n",
        "\n",
        "# Criar ferramentas\n",
        "# Create tools\n",
        "@tool\n",
        "def fetch_bitcoin_price() -> str:\n",
        "    \"\"\"\n",
        "    A tool to fetch the current Bitcoin (BTC) price in USD.\n",
        "\n",
        "    This function makes a request to the CoinGecko API to retrieve the current price of Bitcoin in United States Dollars (USD). It returns a formatted string with the current price, making it easy to read and utilize this data elsewhere in the system or in reports.\n",
        "\n",
        "    On success, the function returns a string in the format: \"The current Bitcoin price is USD [price]\".\n",
        "    If the request fails for any reason, such as connection issues or API errors, the function returns an error message indicating the problem encountered.\n",
        "\n",
        "    Success example: \"The current Bitcoin price is USD 50000\".\n",
        "    Error example: \"Error fetching the Bitcoin price: [error message]\".\n",
        "\n",
        "    This function uses the 'requests' library for the HTTP request. Ensure this library is installed and available in your Python environment.\n",
        "    \"\"\"\n",
        "    url = \"https://api.coingecko.com/api/v3/simple/price?ids=bitcoin&vs_currencies=usd\"\n",
        "    try:\n",
        "        response = requests.get(url)\n",
        "        response.raise_for_status()  # Raises an error for bad responses\n",
        "        data = response.json()\n",
        "        bitcoin_price = data['bitcoin']['usd']\n",
        "        return f\"The current Bitcoin price is USD {bitcoin_price}\"\n",
        "    except requests.RequestException as e:\n",
        "        return f\"Error fetching the Bitcoin price: {e}\"\n",
        "\n",
        "# Definir ferramentas\n",
        "# Define tools\n",
        "tools = [fetch_bitcoin_price]\n",
        "\n",
        "# Definir um agente\n",
        "# Define an agent with the assigned tool\n",
        "crypto_expert_agent = Agent(\n",
        "    role='Cryptocurrency Expert',  # Especialista em Criptomoedas\n",
        "    goal='Fetch the current price of Bitcoin',  # Buscar o preço atual do Bitcoin\n",
        "    backstory='An experienced analyst in the field of cryptocurrency, deeply knowledgeable about market trends and the technical aspects of blockchain technology. Eager to leverage cutting-edge tools to provide accurate and timely financial insights.',  # Um analista experiente no campo das criptomoedas, profundamente conhecedor das tendências do mercado e dos aspectos técnicos da tecnologia blockchain. Ansioso para utilizar ferramentas de ponta para fornecer insights financeiros precisos e oportunos.\n",
        "    verbose=True,\n",
        "    allow_delegation=False,\n",
        "    llm=llm,\n",
        "    tools=tools\n",
        ")\n",
        "\n",
        "# Criar uma tarefa para este agente\n",
        "# Create a task for this agent\n",
        "fetch_bitcoin_price_task = Task(\n",
        "    description='Fetch the current price of Bitcoin.',  # Buscar o preço atual do Bitcoin.\n",
        "    agent=crypto_expert_agent,\n",
        "    expected_output='A string with the current price of Bitcoin.'  # Uma string com o preço atual do Bitcoin.\n",
        ")\n",
        "\n",
        "# Inicializar a equipe e adicionar o agente e a tarefa\n",
        "# Initialize your crew and add the agent and task to it\n",
        "crew = Crew(\n",
        "    agents=[crypto_expert_agent],\n",
        "    tasks=[fetch_bitcoin_price_task],\n",
        "    verbose=True,\n",
        "    process=Process.sequential  # Processo sequencial / Sequential process\n",
        ")\n",
        "\n",
        "# Fluxo de Execução\n",
        "# Execution Flow\n",
        "print(\"Crew: Working on Bitcoin Price Task\")  # Crew: Trabalhando na Tarefa de Buscar Preço do Bitcoin\n",
        "price_output = crew.kickoff()  # Iniciar a execução da tarefa / Start task execution\n",
        "print(price_output)  # Exibir o resultado da tarefa / Display the task result\n"
      ],
      "metadata": {
        "collapsed": true,
        "id": "CS_d7sNP4ky7"
      },
      "execution_count": null,
      "outputs": []
    }
  ]
}